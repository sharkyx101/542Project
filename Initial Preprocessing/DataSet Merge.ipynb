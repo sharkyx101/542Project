{
 "cells": [
  {
   "cell_type": "code",
   "execution_count": 1,
   "id": "36c90a24",
   "metadata": {},
   "outputs": [],
   "source": [
    "#Written by Kobi Sherman\n",
    "\n",
    "#imports and variables\n",
    "import pandas as pd\n",
    "import os\n",
    "\n",
    "path = 'C:/Users/kobis/Desktop/Tennis Dataset/tennis_atp'"
   ]
  },
  {
   "cell_type": "code",
   "execution_count": 2,
   "id": "ee6c9387",
   "metadata": {},
   "outputs": [
    {
     "name": "stdout",
     "output_type": "stream",
     "text": [
      "['atp_matches_1968.csv', 'atp_matches_1969.csv', 'atp_matches_1970.csv', 'atp_matches_1971.csv', 'atp_matches_1972.csv', 'atp_matches_1973.csv', 'atp_matches_1974.csv', 'atp_matches_1975.csv', 'atp_matches_1976.csv', 'atp_matches_1977.csv', 'atp_matches_1978.csv', 'atp_matches_1979.csv', 'atp_matches_1980.csv', 'atp_matches_1981.csv', 'atp_matches_1982.csv', 'atp_matches_1983.csv', 'atp_matches_1984.csv', 'atp_matches_1985.csv', 'atp_matches_1986.csv', 'atp_matches_1987.csv', 'atp_matches_1988.csv', 'atp_matches_1989.csv', 'atp_matches_1990.csv', 'atp_matches_1991.csv', 'atp_matches_1992.csv', 'atp_matches_1993.csv', 'atp_matches_1994.csv', 'atp_matches_1995.csv', 'atp_matches_1996.csv', 'atp_matches_1997.csv', 'atp_matches_1998.csv', 'atp_matches_1999.csv', 'atp_matches_2000.csv', 'atp_matches_2001.csv', 'atp_matches_2002.csv', 'atp_matches_2003.csv', 'atp_matches_2004.csv', 'atp_matches_2005.csv', 'atp_matches_2006.csv', 'atp_matches_2007.csv', 'atp_matches_2008.csv', 'atp_matches_2009.csv', 'atp_matches_2010.csv', 'atp_matches_2011.csv', 'atp_matches_2012.csv', 'atp_matches_2013.csv', 'atp_matches_2014.csv', 'atp_matches_2015.csv', 'atp_matches_2016.csv', 'atp_matches_2017.csv', 'atp_matches_2018.csv', 'atp_matches_2019.csv', 'atp_matches_2020.csv', 'atp_matches_2021.csv', 'atp_matches_2022.csv', 'atp_matches_2023.csv', 'atp_matches_amateur.csv', 'atp_matches_futures_1991.csv', 'atp_matches_futures_1992.csv', 'atp_matches_futures_1993.csv', 'atp_matches_futures_1994.csv', 'atp_matches_futures_1995.csv', 'atp_matches_futures_1996.csv', 'atp_matches_futures_1997.csv', 'atp_matches_futures_1998.csv', 'atp_matches_futures_1999.csv', 'atp_matches_futures_2000.csv', 'atp_matches_futures_2001.csv', 'atp_matches_futures_2002.csv', 'atp_matches_futures_2003.csv', 'atp_matches_futures_2004.csv', 'atp_matches_futures_2005.csv', 'atp_matches_futures_2006.csv', 'atp_matches_futures_2007.csv', 'atp_matches_futures_2008.csv', 'atp_matches_futures_2009.csv', 'atp_matches_futures_2010.csv', 'atp_matches_futures_2011.csv', 'atp_matches_futures_2012.csv', 'atp_matches_futures_2013.csv', 'atp_matches_futures_2014.csv', 'atp_matches_futures_2015.csv', 'atp_matches_futures_2016.csv', 'atp_matches_futures_2017.csv', 'atp_matches_futures_2018.csv', 'atp_matches_futures_2019.csv', 'atp_matches_futures_2020.csv', 'atp_matches_futures_2021.csv', 'atp_matches_futures_2022.csv', 'atp_matches_futures_2023.csv', 'atp_matches_qual_chall_1978.csv', 'atp_matches_qual_chall_1979.csv', 'atp_matches_qual_chall_1980.csv', 'atp_matches_qual_chall_1981.csv', 'atp_matches_qual_chall_1982.csv', 'atp_matches_qual_chall_1983.csv', 'atp_matches_qual_chall_1984.csv', 'atp_matches_qual_chall_1985.csv', 'atp_matches_qual_chall_1986.csv', 'atp_matches_qual_chall_1987.csv', 'atp_matches_qual_chall_1988.csv', 'atp_matches_qual_chall_1989.csv', 'atp_matches_qual_chall_1990.csv', 'atp_matches_qual_chall_1991.csv', 'atp_matches_qual_chall_1992.csv', 'atp_matches_qual_chall_1993.csv', 'atp_matches_qual_chall_1994.csv', 'atp_matches_qual_chall_1995.csv', 'atp_matches_qual_chall_1996.csv', 'atp_matches_qual_chall_1997.csv', 'atp_matches_qual_chall_1998.csv', 'atp_matches_qual_chall_1999.csv', 'atp_matches_qual_chall_2000.csv', 'atp_matches_qual_chall_2001.csv', 'atp_matches_qual_chall_2002.csv', 'atp_matches_qual_chall_2003.csv', 'atp_matches_qual_chall_2004.csv', 'atp_matches_qual_chall_2005.csv', 'atp_matches_qual_chall_2006.csv', 'atp_matches_qual_chall_2007.csv', 'atp_matches_qual_chall_2008.csv', 'atp_matches_qual_chall_2009.csv', 'atp_matches_qual_chall_2010.csv', 'atp_matches_qual_chall_2011.csv', 'atp_matches_qual_chall_2012.csv', 'atp_matches_qual_chall_2013.csv', 'atp_matches_qual_chall_2014.csv', 'atp_matches_qual_chall_2015.csv', 'atp_matches_qual_chall_2016.csv', 'atp_matches_qual_chall_2017.csv', 'atp_matches_qual_chall_2018.csv', 'atp_matches_qual_chall_2019.csv', 'atp_matches_qual_chall_2020.csv', 'atp_matches_qual_chall_2021.csv', 'atp_matches_qual_chall_2022.csv', 'atp_matches_qual_chall_2023.csv']\n"
     ]
    }
   ],
   "source": [
    "# read and store the files\n",
    "csv_files = [f for f in os.listdir(path) if f.endswith('.csv')]\n",
    "print(csv_files)"
   ]
  },
  {
   "cell_type": "code",
   "execution_count": 4,
   "id": "d3137047",
   "metadata": {},
   "outputs": [],
   "source": [
    "result = pd.DataFrame()"
   ]
  },
  {
   "cell_type": "code",
   "execution_count": 5,
   "id": "e23f9225",
   "metadata": {},
   "outputs": [
    {
     "name": "stderr",
     "output_type": "stream",
     "text": [
      "C:\\Users\\kobis\\AppData\\Local\\Temp\\ipykernel_2560\\156692179.py:2: DtypeWarning: Columns (3) have mixed types. Specify dtype option on import or set low_memory=False.\n",
      "  df = pd.read_csv(os.path.join(path, file))\n"
     ]
    }
   ],
   "source": [
    "# merge the files into a single DataFrame obj\n",
    "for file in csv_files:\n",
    "    df = pd.read_csv(os.path.join(path, file))\n",
    "    result = pd.concat([result, df], ignore_index = True)"
   ]
  },
  {
   "cell_type": "code",
   "execution_count": 11,
   "id": "157d0323",
   "metadata": {},
   "outputs": [],
   "source": [
    "result.to_csv('merged_data.csv', index = False)"
   ]
  },
  {
   "cell_type": "code",
   "execution_count": 10,
   "id": "c5dce242",
   "metadata": {},
   "outputs": [
    {
     "name": "stdout",
     "output_type": "stream",
     "text": [
      "Index(['tourney_id', 'tourney_name', 'surface', 'draw_size', 'tourney_level',\n",
      "       'winner_entry', 'winner_name', 'winner_hand', 'winner_ioc',\n",
      "       'loser_entry', 'loser_name', 'loser_hand', 'loser_ioc', 'score',\n",
      "       'round'],\n",
      "      dtype='object')\n"
     ]
    }
   ],
   "source": [
    "# check which columns have mixed dtypes\n",
    "mixed_dtype_columns = result.select_dtypes(include=['object']).columns\n",
    "print(mixed_dtype_columns)"
   ]
  },
  {
   "cell_type": "code",
   "execution_count": null,
   "id": "66d8a6bf",
   "metadata": {},
   "outputs": [],
   "source": []
  }
 ],
 "metadata": {
  "kernelspec": {
   "display_name": "Python 3 (ipykernel)",
   "language": "python",
   "name": "python3"
  },
  "language_info": {
   "codemirror_mode": {
    "name": "ipython",
    "version": 3
   },
   "file_extension": ".py",
   "mimetype": "text/x-python",
   "name": "python",
   "nbconvert_exporter": "python",
   "pygments_lexer": "ipython3",
   "version": "3.11.5"
  }
 },
 "nbformat": 4,
 "nbformat_minor": 5
}
