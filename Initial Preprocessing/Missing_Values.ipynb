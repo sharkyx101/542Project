{
 "cells": [
  {
   "cell_type": "code",
   "execution_count": 63,
   "id": "d306954f",
   "metadata": {},
   "outputs": [
    {
     "name": "stderr",
     "output_type": "stream",
     "text": [
      "C:\\Users\\user\\AppData\\Local\\Temp\\ipykernel_7560\\3320209529.py:4: DtypeWarning: Columns (1) have mixed types. Specify dtype option on import or set low_memory=False.\n",
      "  df = pd.read_csv('missing_values.csv')\n"
     ]
    }
   ],
   "source": [
    "# Written by Rahi Misra\n",
    "import pandas as pd\n",
    "\n",
    "df = pd.read_csv('missing_values.csv')"
   ]
  },
  {
   "cell_type": "code",
   "execution_count": 64,
   "id": "f3212b24",
   "metadata": {},
   "outputs": [
    {
     "name": "stdout",
     "output_type": "stream",
     "text": [
      "Unique Tourney Levels: ['M' 'A' 'G' 'D' 'F' 'S' '25' '15' 15 25 'C']\n",
      "\n",
      "Tourney Level Counts:\n",
      " tourney_level\n",
      "S     429781\n",
      "C     171937\n",
      "A      89415\n",
      "G      30022\n",
      "M      23660\n",
      "15     21608\n",
      "25     11160\n",
      "D      11116\n",
      "15      6395\n",
      "25      5027\n",
      "F        542\n",
      "Name: count, dtype: int64\n"
     ]
    }
   ],
   "source": [
    "# Find the different tourney levels\n",
    "unique_tourney_levels = df['tourney_level'].unique()\n",
    "tourney_level_counts = df['tourney_level'].value_counts()\n",
    "\n",
    "print(\"Unique Tourney Levels:\", unique_tourney_levels)\n",
    "print(\"\\nTourney Level Counts:\\n\", tourney_level_counts)"
   ]
  },
  {
   "cell_type": "code",
   "execution_count": 65,
   "id": "33ad08ed",
   "metadata": {},
   "outputs": [
    {
     "name": "stdout",
     "output_type": "stream",
     "text": [
      "Number of 0s in winner's rank: 41120\n",
      "Number of 0s in loser's rank: 99811\n"
     ]
    }
   ],
   "source": [
    "# Find the 0s in rank features\n",
    "winner_rank_zeros = (df['winner_rank'] == 0).sum()\n",
    "\n",
    "loser_rank_zeros = (df['loser_rank'] == 0).sum()\n",
    "\n",
    "print(\"Number of 0s in winner's rank:\", winner_rank_zeros)\n",
    "print(\"Number of 0s in loser's rank:\", loser_rank_zeros)"
   ]
  },
  {
   "cell_type": "code",
   "execution_count": 67,
   "id": "93a82845",
   "metadata": {},
   "outputs": [
    {
     "name": "stdout",
     "output_type": "stream",
     "text": [
      "object\n"
     ]
    }
   ],
   "source": [
    "# Change the tourney level into string to remove the duplicate 15 and 25\n",
    "column_data_type = df['tourney_level'].dtypes\n",
    "print(column_data_type)\n",
    "\n",
    "df['tourney_level'] = df['tourney_level'].astype(str)\n",
    "\n",
    "column_data_type = df['tourney_level'].dtypes\n",
    "print(column_data_type)"
   ]
  },
  {
   "cell_type": "code",
   "execution_count": 68,
   "id": "b7b2013c",
   "metadata": {},
   "outputs": [
    {
     "name": "stdout",
     "output_type": "stream",
     "text": [
      "Unique Tourney Levels: ['M' 'A' 'G' 'D' 'F' 'S' '25' '15' 'C']\n",
      "\n",
      "Tourney Level Counts:\n",
      " tourney_level\n",
      "S     429781\n",
      "C     171937\n",
      "A      89415\n",
      "G      30022\n",
      "15     28003\n",
      "M      23660\n",
      "25     16187\n",
      "D      11116\n",
      "F        542\n",
      "Name: count, dtype: int64\n"
     ]
    }
   ],
   "source": [
    "# Check if transformaation worked\n",
    "unique_tourney_levels = df['tourney_level'].unique()\n",
    "tourney_level_counts = df['tourney_level'].value_counts()\n",
    "\n",
    "print(\"Unique Tourney Levels:\", unique_tourney_levels)\n",
    "print(\"\\nTourney Level Counts:\\n\", tourney_level_counts)"
   ]
  },
  {
   "cell_type": "code",
   "execution_count": 69,
   "id": "9dc6a18c",
   "metadata": {},
   "outputs": [],
   "source": [
    "# Fill missing ranks with average rank\n",
    "missing_winner_rank = (df['winner_rank'] == 0)\n",
    "missing_loser_rank = (df['loser_rank'] == 0)\n",
    "\n",
    "winner_rank_averages = df[df['winner_rank'] != 0].groupby('tourney_level')['winner_rank'].mean()\n",
    "loser_rank_averages = df[df['loser_rank'] != 0].groupby('tourney_level')['loser_rank'].mean()\n",
    "\n",
    "df.loc[missing_winner_rank, 'winner_rank'] = df.loc[missing_winner_rank, 'tourney_level'].map(winner_rank_averages)\n",
    "df.loc[missing_loser_rank, 'loser_rank'] = df.loc[missing_loser_rank, 'tourney_level'].map(loser_rank_averages)\n",
    "\n",
    "df.to_csv('filtered_missing_ranks.csv', index=False)"
   ]
  },
  {
   "cell_type": "code",
   "execution_count": 70,
   "id": "373a09b1",
   "metadata": {},
   "outputs": [
    {
     "name": "stdout",
     "output_type": "stream",
     "text": [
      "Number of 0s in winner's rank: 0\n",
      "Number of 0s in loser's rank: 0\n"
     ]
    }
   ],
   "source": [
    "# Checks if any ranks are still missing\n",
    "winner_rank_zeros = (df['winner_rank'] == 0).sum()\n",
    "\n",
    "loser_rank_zeros = (df['loser_rank'] == 0).sum()\n",
    "\n",
    "print(\"Number of 0s in winner's rank:\", winner_rank_zeros)\n",
    "print(\"Number of 0s in loser's rank:\", loser_rank_zeros)"
   ]
  },
  {
   "cell_type": "code",
   "execution_count": 72,
   "id": "259b394d",
   "metadata": {},
   "outputs": [
    {
     "name": "stdout",
     "output_type": "stream",
     "text": [
      "original:  23\n",
      "copy:  23\n",
      "23.0\n",
      "23\n",
      "The column does not contain any 0's.\n"
     ]
    }
   ],
   "source": [
    "# Replace the missing age values with median\n",
    "import numpy as np\n",
    "\n",
    "feature = 'winner_age'\n",
    "original = df[feature].tolist()\n",
    "copyList = original[:]\n",
    "\n",
    "print('original: ', original[0])\n",
    "print('copy: ', copyList[0])\n",
    "copyList.sort()\n",
    "\n",
    "filteredList = [e for e in copyList if e != 0]\n",
    "\n",
    "median = np.median(filteredList)\n",
    "\n",
    "print(median)\n",
    "\n",
    "df[feature].replace(0, median, inplace=True)\n",
    "\n",
    "print(df[feature][800253])\n",
    "\n",
    "contains_zeros = (df[feature] == 0).all()\n",
    "\n",
    "if contains_zeros:\n",
    "    print(\"The column contains 0's.\")\n",
    "else:\n",
    "    print(\"The column does not contain any 0's.\")\n"
   ]
  },
  {
   "cell_type": "code",
   "execution_count": 73,
   "id": "515adae8",
   "metadata": {},
   "outputs": [
    {
     "name": "stdout",
     "output_type": "stream",
     "text": [
      "Number of 0s in winner's age: 0\n",
      "Number of 0s in loser's age: 0\n"
     ]
    }
   ],
   "source": [
    "# Check if filling missing age values works\n",
    "winner_age_zeros = (df['winner_age'] == 0).sum()\n",
    "\n",
    "loser_age_zeros = (df['loser_age'] == 0).sum()\n",
    "\n",
    "print(\"Number of 0s in winner's age:\", winner_age_zeros)\n",
    "print(\"Number of 0s in loser's age:\", loser_age_zeros)"
   ]
  },
  {
   "cell_type": "code",
   "execution_count": 74,
   "id": "9935bc8b",
   "metadata": {},
   "outputs": [],
   "source": [
    "# Save the file\n",
    "df.to_csv('cleaned_age_dataset.csv', index = False)"
   ]
  },
  {
   "cell_type": "code",
   "execution_count": 78,
   "id": "35418dd6",
   "metadata": {},
   "outputs": [
    {
     "name": "stdout",
     "output_type": "stream",
     "text": [
      "Winner HT Median: 185.0\n",
      "Number of Winner HT Zeros Before Replacement: 312280\n",
      "Number of Winner HT Zeros After Replacement: 0\n",
      "Loser HT Median: 185.0\n",
      "Number of Loser HT Zeros Before Replacement: 409379\n",
      "Number of Loser HT Zeros After Replacement: 0\n"
     ]
    }
   ],
   "source": [
    "# Fill the missing values for height\n",
    "non_zero_winner_ht = df[df['winner_ht'] != 0]\n",
    "\n",
    "winner_ht_median = non_zero_winner_ht['winner_ht'].median()\n",
    "\n",
    "non_zero_loser_ht = df[df['loser_ht'] != 0]\n",
    "\n",
    "loser_ht_median = non_zero_loser_ht['loser_ht'].median()\n",
    "\n",
    "winner_ht_zeros_count_before = (df['winner_ht'] == 0).sum()\n",
    "\n",
    "loser_ht_zeros_count_before = (df['loser_ht'] == 0).sum()\n",
    "\n",
    "df.loc[df['winner_ht'] == 0, 'winner_ht'] = winner_ht_median\n",
    "\n",
    "df.loc[df['loser_ht'] == 0, 'loser_ht'] = loser_ht_median\n",
    "\n",
    "winner_ht_zeros_count_after = (df['winner_ht'] == 0).sum()\n",
    "\n",
    "loser_ht_zeros_count_after = (df['loser_ht'] == 0).sum()\n",
    "\n",
    "print(f\"Winner HT Median: {winner_ht_median}\")\n",
    "print(f\"Number of Winner HT Zeros Before Replacement: {winner_ht_zeros_count_before}\")\n",
    "print(f\"Number of Winner HT Zeros After Replacement: {winner_ht_zeros_count_after}\")\n",
    "\n",
    "print(f\"Loser HT Median: {loser_ht_median}\")\n",
    "print(f\"Number of Loser HT Zeros Before Replacement: {loser_ht_zeros_count_before}\")\n",
    "print(f\"Number of Loser HT Zeros After Replacement: {loser_ht_zeros_count_after}\")"
   ]
  },
  {
   "cell_type": "code",
   "execution_count": 79,
   "id": "d93c2666",
   "metadata": {},
   "outputs": [
    {
     "name": "stdout",
     "output_type": "stream",
     "text": [
      "Winner HT Median (excluding zeros): 185.0\n",
      "Number of Winner HT Zeros Before Replacement: 0\n",
      "Number of Winner HT Zeros After Replacement: 0\n",
      "Loser HT Median (excluding zeros): 185.0\n",
      "Number of Loser HT Zeros Before Replacement: 0\n",
      "Number of Loser HT Zeros After Replacement: 0\n"
     ]
    }
   ],
   "source": [
    "# Fill the missing values for height\n",
    "winner_ht_median = df[df['winner_ht'] != 0]['winner_ht'].median()\n",
    "\n",
    "loser_ht_median = df[df['loser_ht'] != 0]['loser_ht'].median()\n",
    "\n",
    "winner_ht_zeros_count_before = (df['winner_ht'] == 0).sum()\n",
    "\n",
    "loser_ht_zeros_count_before = (df['loser_ht'] == 0).sum()\n",
    "\n",
    "df.loc[df['winner_ht'] == 0, 'winner_ht'] = winner_ht_median\n",
    "\n",
    "df.loc[df['loser_ht'] == 0, 'loser_ht'] = loser_ht_median\n",
    "\n",
    "winner_ht_zeros_count_after = (df['winner_ht'] == 0).sum()\n",
    "\n",
    "loser_ht_zeros_count_after = (df['loser_ht'] == 0).sum()\n",
    "\n",
    "print(f\"Winner HT Median (excluding zeros): {winner_ht_median}\")\n",
    "print(f\"Number of Winner HT Zeros Before Replacement: {winner_ht_zeros_count_before}\")\n",
    "print(f\"Number of Winner HT Zeros After Replacement: {winner_ht_zeros_count_after}\")\n",
    "\n",
    "print(f\"Loser HT Median (excluding zeros): {loser_ht_median}\")\n",
    "print(f\"Number of Loser HT Zeros Before Replacement: {loser_ht_zeros_count_before}\")\n",
    "print(f\"Number of Loser HT Zeros After Replacement: {loser_ht_zeros_count_after}\")"
   ]
  },
  {
   "cell_type": "code",
   "execution_count": 81,
   "id": "473745e6",
   "metadata": {},
   "outputs": [
    {
     "name": "stdout",
     "output_type": "stream",
     "text": [
      "Number of 0s in winner's height: 0\n",
      "Number of 0s in loser's height: 0\n"
     ]
    }
   ],
   "source": [
    "# Check if height values are filled\n",
    "winner_height_zeros = (df['winner_ht'] == 0).sum()\n",
    "\n",
    "loser_height_zeros = (df['loser_ht'] == 0).sum()\n",
    "\n",
    "print(\"Number of 0s in winner's height:\", winner_height_zeros)\n",
    "print(\"Number of 0s in loser's height:\", loser_height_zeros)"
   ]
  },
  {
   "cell_type": "code",
   "execution_count": 82,
   "id": "bde84812",
   "metadata": {},
   "outputs": [],
   "source": [
    "# Save the file\n",
    "df.to_csv('tennis.csv', index = False)"
   ]
  },
  {
   "cell_type": "code",
   "execution_count": 83,
   "id": "7c16b606",
   "metadata": {},
   "outputs": [],
   "source": [
    "# Make sure numeric features are integers\n",
    "columns_to_convert = ['winner_age', 'winner_ht', 'winner_rank', 'loser_age', 'loser_ht', 'loser_rank']\n",
    "\n",
    "df[columns_to_convert] = df[columns_to_convert].apply(pd.to_numeric, errors='coerce')\n",
    "\n",
    "df[columns_to_convert] = df[columns_to_convert].fillna(0)\n",
    "\n",
    "df[columns_to_convert] = df[columns_to_convert].astype(int)\n",
    "\n",
    "df.to_csv('no_decimals.csv', index=False)"
   ]
  },
  {
   "cell_type": "code",
   "execution_count": 85,
   "id": "ebdaa131",
   "metadata": {},
   "outputs": [
    {
     "name": "stdout",
     "output_type": "stream",
     "text": [
      "Number of 0s in winner's rank: 0\n",
      "Number of 0s in loser's rank: 0\n",
      "Number of 0s in winner's age: 0\n",
      "Number of 0s in loser's age: 0\n",
      "Number of 0s in winner's height: 0\n",
      "Number of 0s in loser's height: 0\n"
     ]
    }
   ],
   "source": [
    "# Check numeric values to confirm missing values have been filled\n",
    "winner_rank_zeros = (df['winner_rank'] == 0).sum()\n",
    "\n",
    "loser_rank_zeros = (df['loser_rank'] == 0).sum()\n",
    "\n",
    "print(\"Number of 0s in winner's rank:\", winner_rank_zeros)\n",
    "print(\"Number of 0s in loser's rank:\", loser_rank_zeros)\n",
    "\n",
    "winner_age_zeros = (df['winner_age'] == 0).sum()\n",
    "\n",
    "loser_age_zeros = (df['loser_age'] == 0).sum()\n",
    "\n",
    "print(\"Number of 0s in winner's age:\", winner_age_zeros)\n",
    "print(\"Number of 0s in loser's age:\", loser_age_zeros)\n",
    "\n",
    "winner_height_zeros = (df['winner_ht'] == 0).sum()\n",
    "\n",
    "loser_height_zeros = (df['loser_ht'] == 0).sum()\n",
    "\n",
    "print(\"Number of 0s in winner's height:\", winner_height_zeros)\n",
    "print(\"Number of 0s in loser's height:\", loser_height_zeros)"
   ]
  },
  {
   "cell_type": "code",
   "execution_count": 86,
   "id": "8169ba7d",
   "metadata": {},
   "outputs": [],
   "source": [
    "# Save the file\n",
    "df.to_csv('tennis.csv', index = False)"
   ]
  },
  {
   "cell_type": "code",
   "execution_count": null,
   "id": "24f65017",
   "metadata": {},
   "outputs": [],
   "source": []
  }
 ],
 "metadata": {
  "kernelspec": {
   "display_name": "Python 3 (ipykernel)",
   "language": "python",
   "name": "python3"
  },
  "language_info": {
   "codemirror_mode": {
    "name": "ipython",
    "version": 3
   },
   "file_extension": ".py",
   "mimetype": "text/x-python",
   "name": "python",
   "nbconvert_exporter": "python",
   "pygments_lexer": "ipython3",
   "version": "3.11.5"
  }
 },
 "nbformat": 4,
 "nbformat_minor": 5
}
