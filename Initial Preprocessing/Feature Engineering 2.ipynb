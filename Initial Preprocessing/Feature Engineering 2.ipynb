{
 "cells": [
  {
   "cell_type": "code",
   "execution_count": 2,
   "id": "0dd8244c",
   "metadata": {},
   "outputs": [
    {
     "name": "stderr",
     "output_type": "stream",
     "text": [
      "C:\\Users\\user\\AppData\\Local\\Temp\\ipykernel_10632\\430076700.py:4: DtypeWarning: Columns (3,4,9,17) have mixed types. Specify dtype option on import or set low_memory=False.\n",
      "  merged_data = pd.read_csv(\"merged_data.csv\")\n"
     ]
    }
   ],
   "source": [
    "# Written by Rahi Misra\n",
    "import pandas as pd\n",
    "\n",
    "merged_data = pd.read_csv(\"merged_data.csv\")\n",
    "\n",
    "# Drop features that cannot be known before match/are redundant\n",
    "features_to_keep = [\n",
    "    'surface', 'tourney_level', 'tourney_date', 'score', 'best_of',\n",
    "    'round', 'winner_name', 'winner_hand', 'winner_ht', 'winner_ioc', 'winner_age',\n",
    "    'winner_rank', 'loser_rank', 'loser_name', 'loser_hand', 'loser_ht', 'loser_ioc',\n",
    "    'loser_age'\n",
    "]\n",
    "\n",
    "merged_data = merged_data[features_to_keep]\n",
    "\n",
    "merged_data.to_csv(\"selected_features.csv\", index=False)\n"
   ]
  },
  {
   "cell_type": "code",
   "execution_count": 4,
   "id": "df4ec810",
   "metadata": {},
   "outputs": [
    {
     "name": "stderr",
     "output_type": "stream",
     "text": [
      "C:\\Users\\user\\AppData\\Local\\Temp\\ipykernel_10632\\1443099132.py:2: DtypeWarning: Columns (1) have mixed types. Specify dtype option on import or set low_memory=False.\n",
      "  df = pd.read_csv(\"selected_features.csv\", header=0)\n"
     ]
    }
   ],
   "source": [
    "df = pd.read_csv(\"selected_features.csv\", header=0)"
   ]
  },
  {
   "cell_type": "code",
   "execution_count": 5,
   "id": "50cfd6cd",
   "metadata": {},
   "outputs": [
    {
     "data": {
      "text/plain": [
       "['surface',\n",
       " 'tourney_level',\n",
       " 'tourney_date',\n",
       " 'score',\n",
       " 'best_of',\n",
       " 'round',\n",
       " 'winner_name',\n",
       " 'winner_hand',\n",
       " 'winner_ht',\n",
       " 'winner_ioc',\n",
       " 'winner_age',\n",
       " 'winner_rank',\n",
       " 'loser_rank',\n",
       " 'loser_name',\n",
       " 'loser_hand',\n",
       " 'loser_ht',\n",
       " 'loser_ioc',\n",
       " 'loser_age']"
      ]
     },
     "execution_count": 5,
     "metadata": {},
     "output_type": "execute_result"
    }
   ],
   "source": [
    "# Get the list of feature names\n",
    "feature_names = df.columns.tolist()\n",
    "\n",
    "feature_names"
   ]
  },
  {
   "cell_type": "code",
   "execution_count": 6,
   "id": "e0ff3ba3",
   "metadata": {},
   "outputs": [
    {
     "data": {
      "text/plain": [
       "surface           object\n",
       "tourney_level     object\n",
       "tourney_date       int64\n",
       "score             object\n",
       "best_of            int64\n",
       "round             object\n",
       "winner_name       object\n",
       "winner_hand       object\n",
       "winner_ht        float64\n",
       "winner_ioc        object\n",
       "winner_age       float64\n",
       "winner_rank      float64\n",
       "loser_rank       float64\n",
       "loser_name        object\n",
       "loser_hand        object\n",
       "loser_ht         float64\n",
       "loser_ioc         object\n",
       "loser_age        float64\n",
       "dtype: object"
      ]
     },
     "execution_count": 6,
     "metadata": {},
     "output_type": "execute_result"
    }
   ],
   "source": [
    "# Get the data types for each feature\n",
    "data_types = df.dtypes\n",
    "\n",
    "data_types"
   ]
  },
  {
   "cell_type": "code",
   "execution_count": 7,
   "id": "6a065da4",
   "metadata": {},
   "outputs": [],
   "source": [
    "# Remove dates from before 1984\n",
    "df = df[df['tourney_date'].notna()]\n",
    "df = df[df['tourney_date'].astype(str).str.isnumeric()]\n",
    "\n",
    "df['tourney_date'] = pd.to_datetime(df['tourney_date'], format='%Y%m%d')\n",
    "\n",
    "df = df[df['tourney_date'].dt.year > 1984]\n",
    "\n",
    "df.to_csv('filtered_years.csv', index=False)"
   ]
  },
  {
   "cell_type": "code",
   "execution_count": 8,
   "id": "3e43fe9b",
   "metadata": {},
   "outputs": [],
   "source": [
    "# Convert numeric features to ints\n",
    "columns_to_convert = ['winner_age', 'winner_ht', 'winner_rank', 'loser_age', 'loser_ht', 'loser_rank']\n",
    "\n",
    "df[columns_to_convert] = df[columns_to_convert].apply(pd.to_numeric, errors='coerce')\n",
    "\n",
    "df[columns_to_convert] = df[columns_to_convert].fillna(0)\n",
    "\n",
    "df[columns_to_convert] = df[columns_to_convert].astype(int)\n",
    "\n",
    "df.to_csv('no_decimals.csv', index=False)"
   ]
  },
  {
   "cell_type": "code",
   "execution_count": 9,
   "id": "9d19ad19",
   "metadata": {},
   "outputs": [],
   "source": [
    "# Chage date to years since\n",
    "import datetime\n",
    "\n",
    "df['tourney_date'] = pd.to_datetime(df['tourney_date'], format='%Y%m%d')\n",
    "current_date = datetime.datetime.now()\n",
    "df['years_since_match'] = (current_date - df['tourney_date']).dt.days / 365"
   ]
  },
  {
   "cell_type": "code",
   "execution_count": 10,
   "id": "9efac69f",
   "metadata": {},
   "outputs": [],
   "source": [
    "# Convert years since to a weight feature\n",
    "df['weight'] = 0.9 ** df['years_since_match']"
   ]
  },
  {
   "cell_type": "code",
   "execution_count": 11,
   "id": "eea51e2a",
   "metadata": {},
   "outputs": [
    {
     "data": {
      "text/plain": [
       "surface                      object\n",
       "tourney_level                object\n",
       "tourney_date         datetime64[ns]\n",
       "score                        object\n",
       "best_of                       int64\n",
       "round                        object\n",
       "winner_name                  object\n",
       "winner_hand                  object\n",
       "winner_ht                     int32\n",
       "winner_ioc                   object\n",
       "winner_age                    int32\n",
       "winner_rank                   int32\n",
       "loser_rank                    int32\n",
       "loser_name                   object\n",
       "loser_hand                   object\n",
       "loser_ht                      int32\n",
       "loser_ioc                    object\n",
       "loser_age                     int32\n",
       "years_since_match           float64\n",
       "weight                      float64\n",
       "dtype: object"
      ]
     },
     "execution_count": 11,
     "metadata": {},
     "output_type": "execute_result"
    }
   ],
   "source": [
    "# Get the data types for each feature in the dataset\n",
    "data_types = df.dtypes\n",
    "\n",
    "# Display the data types\n",
    "data_types"
   ]
  },
  {
   "cell_type": "code",
   "execution_count": 13,
   "id": "a5a66b88",
   "metadata": {},
   "outputs": [],
   "source": [
    "# drop tourney date\n",
    "df = df.drop(['tourney_date'], axis=1)"
   ]
  },
  {
   "cell_type": "code",
   "execution_count": 14,
   "id": "1ebdb4a9",
   "metadata": {},
   "outputs": [
    {
     "data": {
      "text/plain": [
       "surface               object\n",
       "tourney_level         object\n",
       "score                 object\n",
       "best_of                int64\n",
       "round                 object\n",
       "winner_name           object\n",
       "winner_hand           object\n",
       "winner_ht              int32\n",
       "winner_ioc            object\n",
       "winner_age             int32\n",
       "winner_rank            int32\n",
       "loser_rank             int32\n",
       "loser_name            object\n",
       "loser_hand            object\n",
       "loser_ht               int32\n",
       "loser_ioc             object\n",
       "loser_age              int32\n",
       "years_since_match    float64\n",
       "weight               float64\n",
       "dtype: object"
      ]
     },
     "execution_count": 14,
     "metadata": {},
     "output_type": "execute_result"
    }
   ],
   "source": [
    "# Get the data types for each feature\n",
    "data_types = df.dtypes\n",
    "\n",
    "data_types"
   ]
  },
  {
   "cell_type": "code",
   "execution_count": 16,
   "id": "76c58799",
   "metadata": {},
   "outputs": [],
   "source": [
    "# Drop years since match\n",
    "df = df.drop(columns=['years_since_match'])"
   ]
  },
  {
   "cell_type": "code",
   "execution_count": 17,
   "id": "e8b255b3",
   "metadata": {},
   "outputs": [
    {
     "data": {
      "text/plain": [
       "surface           object\n",
       "tourney_level     object\n",
       "score             object\n",
       "best_of            int64\n",
       "round             object\n",
       "winner_name       object\n",
       "winner_hand       object\n",
       "winner_ht          int32\n",
       "winner_ioc        object\n",
       "winner_age         int32\n",
       "winner_rank        int32\n",
       "loser_rank         int32\n",
       "loser_name        object\n",
       "loser_hand        object\n",
       "loser_ht           int32\n",
       "loser_ioc         object\n",
       "loser_age          int32\n",
       "weight           float64\n",
       "dtype: object"
      ]
     },
     "execution_count": 17,
     "metadata": {},
     "output_type": "execute_result"
    }
   ],
   "source": [
    "# Get the data types for each feature\n",
    "data_types = df.dtypes\n",
    "\n",
    "data_types"
   ]
  },
  {
   "cell_type": "code",
   "execution_count": 18,
   "id": "d1785343",
   "metadata": {},
   "outputs": [],
   "source": [
    "df.to_csv('date_weighted.csv', index=False)"
   ]
  },
  {
   "cell_type": "code",
   "execution_count": 19,
   "id": "01a29557",
   "metadata": {},
   "outputs": [],
   "source": [
    "# Drop score\n",
    "df = df.drop(['score'], axis=1)"
   ]
  },
  {
   "cell_type": "code",
   "execution_count": 20,
   "id": "484da313",
   "metadata": {},
   "outputs": [],
   "source": [
    "df.to_csv('missing_values.csv', index=False)"
   ]
  },
  {
   "cell_type": "code",
   "execution_count": null,
   "id": "c1c4363b",
   "metadata": {},
   "outputs": [],
   "source": []
  }
 ],
 "metadata": {
  "kernelspec": {
   "display_name": "Python 3 (ipykernel)",
   "language": "python",
   "name": "python3"
  },
  "language_info": {
   "codemirror_mode": {
    "name": "ipython",
    "version": 3
   },
   "file_extension": ".py",
   "mimetype": "text/x-python",
   "name": "python",
   "nbconvert_exporter": "python",
   "pygments_lexer": "ipython3",
   "version": "3.11.5"
  }
 },
 "nbformat": 4,
 "nbformat_minor": 5
}
