{
 "cells": [
  {
   "cell_type": "code",
   "execution_count": 85,
   "id": "e53a170c",
   "metadata": {},
   "outputs": [
    {
     "name": "stderr",
     "output_type": "stream",
     "text": [
      "C:\\Users\\kobis\\AppData\\Local\\Temp\\ipykernel_9680\\2881571777.py:6: DtypeWarning: Columns (3) have mixed types. Specify dtype option on import or set low_memory=False.\n",
      "  df = pd.read_csv(path)\n"
     ]
    }
   ],
   "source": [
    "#Written by Kobi Sherman\n",
    "\n",
    "import pandas as pd\n",
    "import statistics\n",
    "# import os\n",
    "\n",
    "path = 'C:/Users/kobis/Desktop/FeaturesReworked.csv'\n",
    "df = pd.read_csv(path)"
   ]
  },
  {
   "cell_type": "code",
   "execution_count": 86,
   "id": "82d4da44",
   "metadata": {},
   "outputs": [],
   "source": [
    "# function to get mean\n",
    "def mean(feature):\n",
    "    list = df[feature]\n",
    "    list = [i for i in list if i != 0]\n",
    "    sum = 0\n",
    "    for e in list:\n",
    "        sum += e\n",
    "    return sum // len(list)"
   ]
  },
  {
   "cell_type": "code",
   "execution_count": 87,
   "id": "9b11cd97",
   "metadata": {},
   "outputs": [],
   "source": [
    "# function to get median\n",
    "def median(feature):\n",
    "    list = df[feature]\n",
    "    list = [i for i in list if i != 0]\n",
    "    return statistics.median(list)"
   ]
  },
  {
   "cell_type": "code",
   "execution_count": 88,
   "id": "047ea5e3",
   "metadata": {},
   "outputs": [],
   "source": [
    "# function to get mode\n",
    "def mode(feature):\n",
    "    list = df[feature]\n",
    "    list = [i for i in list if i != 0]\n",
    "    return statistics.mode(list)"
   ]
  },
  {
   "cell_type": "code",
   "execution_count": 89,
   "id": "17557806",
   "metadata": {},
   "outputs": [],
   "source": [
    "# function to replace values in a column\n",
    "def replace_column(feature, value):\n",
    "    df[feature].replace(0, value, inplace = True)\n",
    "    print(0 in df[feature].values) # success?"
   ]
  },
  {
   "cell_type": "code",
   "execution_count": 90,
   "id": "78bc38e1",
   "metadata": {},
   "outputs": [
    {
     "name": "stdout",
     "output_type": "stream",
     "text": [
      "False\n",
      "False\n",
      "False\n",
      "False\n",
      "False\n",
      "False\n",
      "False\n",
      "False\n",
      "False\n",
      "False\n"
     ]
    }
   ],
   "source": [
    "# replace the missing values (0) with appropriate measurement\n",
    "# mode\n",
    "replace_column('draw_size', mode('draw_size'))\n",
    "replace_column('best_of', mode('best_of'))\n",
    "\n",
    "# medians\n",
    "replace_column('player1_age', median('player1_age'))\n",
    "replace_column('player2_age', median('player2_age'))\n",
    "replace_column('player1_seed', median('player1_seed'))\n",
    "replace_column('player2_seed', median('player2_seed'))\n",
    "replace_column('player1_rank', median('player1_rank'))\n",
    "replace_column('player2_rank', median('player2_rank'))\n",
    "\n",
    "# means\n",
    "replace_column('player1_height', mean('player1_height'))\n",
    "replace_column('player2_height', mean('player2_height'))"
   ]
  },
  {
   "cell_type": "code",
   "execution_count": 92,
   "id": "56cb08f8",
   "metadata": {},
   "outputs": [],
   "source": [
    "# save the new csv file\n",
    "df.to_csv('C:/Users/kobis/Desktop/numeric_missing_values_filled.csv', index = False)"
   ]
  }
 ],
 "metadata": {
  "kernelspec": {
   "display_name": "Python 3 (ipykernel)",
   "language": "python",
   "name": "python3"
  },
  "language_info": {
   "codemirror_mode": {
    "name": "ipython",
    "version": 3
   },
   "file_extension": ".py",
   "mimetype": "text/x-python",
   "name": "python",
   "nbconvert_exporter": "python",
   "pygments_lexer": "ipython3",
   "version": "3.11.5"
  }
 },
 "nbformat": 4,
 "nbformat_minor": 5
}
