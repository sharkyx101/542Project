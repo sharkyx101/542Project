{
 "cells": [
  {
   "cell_type": "code",
   "execution_count": null,
   "id": "a49ac71d",
   "metadata": {},
   "outputs": [],
   "source": [
    "# Written by Rahi Misra"
   ]
  },
  {
   "cell_type": "code",
   "execution_count": null,
   "id": "68054d4a",
   "metadata": {},
   "outputs": [],
   "source": [
    "# This jupyter notebok was used to finalize the best hyperparameters for the best SVM Model"
   ]
  },
  {
   "cell_type": "code",
   "execution_count": null,
   "id": "050831e6",
   "metadata": {},
   "outputs": [],
   "source": [
    "# The previous attempts found linear kernel was likely the best svm model we could find"
   ]
  },
  {
   "cell_type": "code",
   "execution_count": null,
   "id": "859f8fcf",
   "metadata": {},
   "outputs": [],
   "source": [
    "# Multiple scalers were tested as well to see how they affected performance"
   ]
  },
  {
   "cell_type": "code",
   "execution_count": 1,
   "id": "5f1bacba",
   "metadata": {},
   "outputs": [],
   "source": [
    "# Necessary libraries\n",
    "import pandas as pd\n",
    "import numpy as np\n",
    "from sklearn.metrics import accuracy_score, f1_score, confusion_matrix, classification_report\n",
    "from sklearn.svm import SVC\n",
    "from sklearn.svm import LinearSVC\n",
    "from sklearn.pipeline import Pipeline\n",
    "from sklearn.preprocessing import StandardScaler\n",
    "from sklearn.preprocessing import MinMaxScaler\n",
    "from sklearn.preprocessing import RobustScaler\n",
    "from sklearn.preprocessing import MaxAbsScaler\n",
    "from sklearn.preprocessing import QuantileTransformer\n",
    "from sklearn.preprocessing import PowerTransformer\n",
    "from sklearn.model_selection import train_test_split\n",
    "from sklearn.model_selection import GridSearchCV\n",
    "from sklearn.preprocessing import PolynomialFeatures\n",
    "import seaborn as sns\n",
    "import matplotlib.pyplot as plt\n",
    "\n",
    "\n",
    "import warnings\n",
    "warnings.filterwarnings('ignore')"
   ]
  },
  {
   "cell_type": "code",
   "execution_count": 2,
   "id": "65eae70a",
   "metadata": {},
   "outputs": [],
   "source": [
    "# Load the merged_data_combined.csv file\n",
    "tennis = pd.read_csv(\"FinalTennisCSV.csv\")"
   ]
  },
  {
   "cell_type": "code",
   "execution_count": 3,
   "id": "00947b07",
   "metadata": {},
   "outputs": [],
   "source": [
    "# Split the dataset into features and target variable\n",
    "X = tennis.drop(\"winner\", axis=1)\n",
    "y = tennis[\"winner\"]"
   ]
  },
  {
   "cell_type": "code",
   "execution_count": 4,
   "id": "614d95ee",
   "metadata": {},
   "outputs": [
    {
     "data": {
      "text/plain": [
       "(899360, 78)"
      ]
     },
     "execution_count": 4,
     "metadata": {},
     "output_type": "execute_result"
    }
   ],
   "source": [
    "# The amounts of features and touples\n",
    "X.shape"
   ]
  },
  {
   "cell_type": "code",
   "execution_count": 5,
   "id": "b99499bb",
   "metadata": {},
   "outputs": [
    {
     "data": {
      "text/plain": [
       "(899360,)"
      ]
     },
     "execution_count": 5,
     "metadata": {},
     "output_type": "execute_result"
    }
   ],
   "source": [
    "# The amount of targets\n",
    "y.shape"
   ]
  },
  {
   "cell_type": "code",
   "execution_count": 6,
   "id": "97ef3778",
   "metadata": {},
   "outputs": [],
   "source": [
    "# Splits the dataset into training set and test set\n",
    "# training set is 80% touples\n",
    "# test set is 20% tuples\n",
    "\n",
    "X_train, X_test, y_train, y_test = train_test_split(X, y, test_size=0.2, random_state=42)"
   ]
  },
  {
   "cell_type": "code",
   "execution_count": 7,
   "id": "203aea9e",
   "metadata": {},
   "outputs": [],
   "source": [
    "scaler = StandardScaler()\n",
    "X_train_scaled = scaler.fit_transform(X_train)\n",
    "X_test_scaled = scaler.transform(X_test)"
   ]
  },
  {
   "cell_type": "code",
   "execution_count": 8,
   "id": "0d6c0183",
   "metadata": {},
   "outputs": [
    {
     "data": {
      "text/html": [
       "<style>#sk-container-id-1 {color: black;background-color: white;}#sk-container-id-1 pre{padding: 0;}#sk-container-id-1 div.sk-toggleable {background-color: white;}#sk-container-id-1 label.sk-toggleable__label {cursor: pointer;display: block;width: 100%;margin-bottom: 0;padding: 0.3em;box-sizing: border-box;text-align: center;}#sk-container-id-1 label.sk-toggleable__label-arrow:before {content: \"▸\";float: left;margin-right: 0.25em;color: #696969;}#sk-container-id-1 label.sk-toggleable__label-arrow:hover:before {color: black;}#sk-container-id-1 div.sk-estimator:hover label.sk-toggleable__label-arrow:before {color: black;}#sk-container-id-1 div.sk-toggleable__content {max-height: 0;max-width: 0;overflow: hidden;text-align: left;background-color: #f0f8ff;}#sk-container-id-1 div.sk-toggleable__content pre {margin: 0.2em;color: black;border-radius: 0.25em;background-color: #f0f8ff;}#sk-container-id-1 input.sk-toggleable__control:checked~div.sk-toggleable__content {max-height: 200px;max-width: 100%;overflow: auto;}#sk-container-id-1 input.sk-toggleable__control:checked~label.sk-toggleable__label-arrow:before {content: \"▾\";}#sk-container-id-1 div.sk-estimator input.sk-toggleable__control:checked~label.sk-toggleable__label {background-color: #d4ebff;}#sk-container-id-1 div.sk-label input.sk-toggleable__control:checked~label.sk-toggleable__label {background-color: #d4ebff;}#sk-container-id-1 input.sk-hidden--visually {border: 0;clip: rect(1px 1px 1px 1px);clip: rect(1px, 1px, 1px, 1px);height: 1px;margin: -1px;overflow: hidden;padding: 0;position: absolute;width: 1px;}#sk-container-id-1 div.sk-estimator {font-family: monospace;background-color: #f0f8ff;border: 1px dotted black;border-radius: 0.25em;box-sizing: border-box;margin-bottom: 0.5em;}#sk-container-id-1 div.sk-estimator:hover {background-color: #d4ebff;}#sk-container-id-1 div.sk-parallel-item::after {content: \"\";width: 100%;border-bottom: 1px solid gray;flex-grow: 1;}#sk-container-id-1 div.sk-label:hover label.sk-toggleable__label {background-color: #d4ebff;}#sk-container-id-1 div.sk-serial::before {content: \"\";position: absolute;border-left: 1px solid gray;box-sizing: border-box;top: 0;bottom: 0;left: 50%;z-index: 0;}#sk-container-id-1 div.sk-serial {display: flex;flex-direction: column;align-items: center;background-color: white;padding-right: 0.2em;padding-left: 0.2em;position: relative;}#sk-container-id-1 div.sk-item {position: relative;z-index: 1;}#sk-container-id-1 div.sk-parallel {display: flex;align-items: stretch;justify-content: center;background-color: white;position: relative;}#sk-container-id-1 div.sk-item::before, #sk-container-id-1 div.sk-parallel-item::before {content: \"\";position: absolute;border-left: 1px solid gray;box-sizing: border-box;top: 0;bottom: 0;left: 50%;z-index: -1;}#sk-container-id-1 div.sk-parallel-item {display: flex;flex-direction: column;z-index: 1;position: relative;background-color: white;}#sk-container-id-1 div.sk-parallel-item:first-child::after {align-self: flex-end;width: 50%;}#sk-container-id-1 div.sk-parallel-item:last-child::after {align-self: flex-start;width: 50%;}#sk-container-id-1 div.sk-parallel-item:only-child::after {width: 0;}#sk-container-id-1 div.sk-dashed-wrapped {border: 1px dashed gray;margin: 0 0.4em 0.5em 0.4em;box-sizing: border-box;padding-bottom: 0.4em;background-color: white;}#sk-container-id-1 div.sk-label label {font-family: monospace;font-weight: bold;display: inline-block;line-height: 1.2em;}#sk-container-id-1 div.sk-label-container {text-align: center;}#sk-container-id-1 div.sk-container {/* jupyter's `normalize.less` sets `[hidden] { display: none; }` but bootstrap.min.css set `[hidden] { display: none !important; }` so we also need the `!important` here to be able to override the default hidden behavior on the sphinx rendered scikit-learn.org. See: https://github.com/scikit-learn/scikit-learn/issues/21755 */display: inline-block !important;position: relative;}#sk-container-id-1 div.sk-text-repr-fallback {display: none;}</style><div id=\"sk-container-id-1\" class=\"sk-top-container\"><div class=\"sk-text-repr-fallback\"><pre>LinearSVC(C=0.01, loss=&#x27;hinge&#x27;, random_state=42)</pre><b>In a Jupyter environment, please rerun this cell to show the HTML representation or trust the notebook. <br />On GitHub, the HTML representation is unable to render, please try loading this page with nbviewer.org.</b></div><div class=\"sk-container\" hidden><div class=\"sk-item\"><div class=\"sk-estimator sk-toggleable\"><input class=\"sk-toggleable__control sk-hidden--visually\" id=\"sk-estimator-id-1\" type=\"checkbox\" checked><label for=\"sk-estimator-id-1\" class=\"sk-toggleable__label sk-toggleable__label-arrow\">LinearSVC</label><div class=\"sk-toggleable__content\"><pre>LinearSVC(C=0.01, loss=&#x27;hinge&#x27;, random_state=42)</pre></div></div></div></div></div>"
      ],
      "text/plain": [
       "LinearSVC(C=0.01, loss='hinge', random_state=42)"
      ]
     },
     "execution_count": 8,
     "metadata": {},
     "output_type": "execute_result"
    }
   ],
   "source": [
    "linear_svc = LinearSVC(C=0.01, loss=\"hinge\", random_state=42)\n",
    "linear_svc.fit(X_train_scaled, y_train)"
   ]
  },
  {
   "cell_type": "code",
   "execution_count": 9,
   "id": "ad3ec171",
   "metadata": {},
   "outputs": [
    {
     "name": "stdout",
     "output_type": "stream",
     "text": [
      "Linear SVC Accuracy: 0.63\n",
      "Linear SVC F-score: 0.63\n",
      "Linear SVC Confusion Matrix:\n",
      "[[62308 27533]\n",
      " [39541 50490]]\n"
     ]
    }
   ],
   "source": [
    "# Linear\n",
    "# Get predictions\n",
    "linear_svc_predictions = linear_svc.predict(X_test_scaled)\n",
    "\n",
    "# Accuracy\n",
    "linear_svc_accuracy = accuracy_score(y_test, linear_svc_predictions)\n",
    "print(f\"Linear SVC Accuracy: {linear_svc_accuracy:.2f}\")\n",
    "\n",
    "# F-score\n",
    "linear_svc_f1 = f1_score(y_test, linear_svc_predictions, average='weighted')\n",
    "print(f\"Linear SVC F-score: {linear_svc_f1:.2f}\")\n",
    "\n",
    "# Confusion Matrix\n",
    "linear_svc_cm = confusion_matrix(y_test, linear_svc_predictions)\n",
    "print(\"Linear SVC Confusion Matrix:\")\n",
    "print(linear_svc_cm)"
   ]
  },
  {
   "cell_type": "code",
   "execution_count": 10,
   "id": "59cd83d5",
   "metadata": {},
   "outputs": [
    {
     "name": "stdout",
     "output_type": "stream",
     "text": [
      "Classification Report:\n",
      "               precision    recall  f1-score   support\n",
      "\n",
      "           1       0.61      0.69      0.65     89841\n",
      "           2       0.65      0.56      0.60     90031\n",
      "\n",
      "    accuracy                           0.63    179872\n",
      "   macro avg       0.63      0.63      0.63    179872\n",
      "weighted avg       0.63      0.63      0.63    179872\n",
      "\n"
     ]
    }
   ],
   "source": [
    "print(\"Classification Report:\\n\", classification_report(y_test, linear_svc_predictions))"
   ]
  },
  {
   "cell_type": "code",
   "execution_count": 11,
   "id": "fb600624",
   "metadata": {},
   "outputs": [
    {
     "name": "stdout",
     "output_type": "stream",
     "text": [
      "Linear SVC Confusion Matrix:\n",
      "[[62308 27533]\n",
      " [39541 50490]]\n"
     ]
    },
    {
     "data": {
      "image/png": "[encoded data removed]",
      "text/plain": [
       "<Figure size 800x600 with 2 Axes>"
      ]
     },
     "metadata": {},
     "output_type": "display_data"
    }
   ],
   "source": [
    "# Confusion Matrix\n",
    "linear_svc_cm = confusion_matrix(y_test, linear_svc_predictions)\n",
    "print(\"Linear SVC Confusion Matrix:\")\n",
    "print(linear_svc_cm)\n",
    "\n",
    "# Confusion Matrix Diagram\n",
    "plt.figure(figsize=(8, 6))\n",
    "sns.heatmap(linear_svc_cm, annot=True, fmt='g', cmap='Blues', xticklabels=['Class 0', 'Class 1'], yticklabels=['Class 0', 'Class 1'])\n",
    "plt.xlabel('Predicted')\n",
    "plt.ylabel('Actual')\n",
    "plt.title('Linear SVC Confusion Matrix')\n",
    "plt.show()\n"
   ]
  },
  {
   "cell_type": "code",
   "execution_count": 25,
   "id": "7523ca9f",
   "metadata": {},
   "outputs": [
    {
     "name": "stdout",
     "output_type": "stream",
     "text": [
      "Linear SVC Accuracy: 0.63\n",
      "Linear SVC F-score: 0.63\n",
      "Linear SVC Confusion Matrix:\n",
      "[[61586 28255]\n",
      " [38768 51263]]\n",
      "Classification Report:\n",
      "               precision    recall  f1-score   support\n",
      "\n",
      "           1       0.61      0.69      0.65     89841\n",
      "           2       0.64      0.57      0.60     90031\n",
      "\n",
      "    accuracy                           0.63    179872\n",
      "   macro avg       0.63      0.63      0.63    179872\n",
      "weighted avg       0.63      0.63      0.63    179872\n",
      "\n"
     ]
    }
   ],
   "source": [
    "# MinMax Scaler\n",
    "scaler = MinMaxScaler()\n",
    "X_train_scaled = scaler.fit_transform(X_train)\n",
    "X_test_scaled = scaler.transform(X_test)\n",
    "\n",
    "linear_svc = LinearSVC(C=0.01, loss=\"hinge\", random_state=42)\n",
    "linear_svc.fit(X_train_scaled, y_train)\n",
    "\n",
    "# Linear\n",
    "# Get predictions\n",
    "linear_svc_predictions = linear_svc.predict(X_test_scaled)\n",
    "\n",
    "# Accuracy\n",
    "linear_svc_accuracy = accuracy_score(y_test, linear_svc_predictions)\n",
    "print(f\"Linear SVC Accuracy: {linear_svc_accuracy:.2f}\")\n",
    "\n",
    "# F-score\n",
    "linear_svc_f1 = f1_score(y_test, linear_svc_predictions, average='weighted')\n",
    "print(f\"Linear SVC F-score: {linear_svc_f1:.2f}\")\n",
    "\n",
    "# Confusion Matrix\n",
    "linear_svc_cm = confusion_matrix(y_test, linear_svc_predictions)\n",
    "print(\"Linear SVC Confusion Matrix:\")\n",
    "print(linear_svc_cm)\n",
    "\n",
    "print(\"Classification Report:\\n\", classification_report(y_test, linear_svc_predictions))"
   ]
  },
  {
   "cell_type": "code",
   "execution_count": 26,
   "id": "1731e2b1",
   "metadata": {},
   "outputs": [
    {
     "name": "stdout",
     "output_type": "stream",
     "text": [
      "Linear SVC Accuracy: 0.63\n",
      "Linear SVC F-score: 0.63\n",
      "Linear SVC Confusion Matrix:\n",
      "[[62167 27674]\n",
      " [39469 50562]]\n",
      "Classification Report:\n",
      "               precision    recall  f1-score   support\n",
      "\n",
      "           1       0.61      0.69      0.65     89841\n",
      "           2       0.65      0.56      0.60     90031\n",
      "\n",
      "    accuracy                           0.63    179872\n",
      "   macro avg       0.63      0.63      0.63    179872\n",
      "weighted avg       0.63      0.63      0.63    179872\n",
      "\n"
     ]
    }
   ],
   "source": [
    "scaler = RobustScaler()\n",
    "X_train_scaled = scaler.fit_transform(X_train)\n",
    "X_test_scaled = scaler.transform(X_test)\n",
    "\n",
    "linear_svc = LinearSVC(C=0.01, loss=\"hinge\", random_state=42)\n",
    "linear_svc.fit(X_train_scaled, y_train)\n",
    "\n",
    "# Linear\n",
    "# Get predictions\n",
    "linear_svc_predictions = linear_svc.predict(X_test_scaled)\n",
    "\n",
    "# Accuracy\n",
    "linear_svc_accuracy = accuracy_score(y_test, linear_svc_predictions)\n",
    "print(f\"Linear SVC Accuracy: {linear_svc_accuracy:.2f}\")\n",
    "\n",
    "# F-score\n",
    "linear_svc_f1 = f1_score(y_test, linear_svc_predictions, average='weighted')\n",
    "print(f\"Linear SVC F-score: {linear_svc_f1:.2f}\")\n",
    "\n",
    "# Confusion Matrix\n",
    "linear_svc_cm = confusion_matrix(y_test, linear_svc_predictions)\n",
    "print(\"Linear SVC Confusion Matrix:\")\n",
    "print(linear_svc_cm)\n",
    "\n",
    "print(\"Classification Report:\\n\", classification_report(y_test, linear_svc_predictions))"
   ]
  },
  {
   "cell_type": "code",
   "execution_count": 27,
   "id": "3f32985d",
   "metadata": {},
   "outputs": [
    {
     "name": "stdout",
     "output_type": "stream",
     "text": [
      "Linear SVC Accuracy: 0.63\n",
      "Linear SVC F-score: 0.63\n",
      "Linear SVC Confusion Matrix:\n",
      "[[61691 28150]\n",
      " [38875 51156]]\n",
      "Classification Report:\n",
      "               precision    recall  f1-score   support\n",
      "\n",
      "           1       0.61      0.69      0.65     89841\n",
      "           2       0.65      0.57      0.60     90031\n",
      "\n",
      "    accuracy                           0.63    179872\n",
      "   macro avg       0.63      0.63      0.63    179872\n",
      "weighted avg       0.63      0.63      0.63    179872\n",
      "\n"
     ]
    }
   ],
   "source": [
    "scaler = MaxAbsScaler()\n",
    "X_train_scaled = scaler.fit_transform(X_train)\n",
    "X_test_scaled = scaler.transform(X_test)\n",
    "\n",
    "linear_svc = LinearSVC(C=0.01, loss=\"hinge\", random_state=42)\n",
    "linear_svc.fit(X_train_scaled, y_train)\n",
    "\n",
    "# Linear\n",
    "# Get predictions\n",
    "linear_svc_predictions = linear_svc.predict(X_test_scaled)\n",
    "\n",
    "# Accuracy\n",
    "linear_svc_accuracy = accuracy_score(y_test, linear_svc_predictions)\n",
    "print(f\"Linear SVC Accuracy: {linear_svc_accuracy:.2f}\")\n",
    "\n",
    "# F-score\n",
    "linear_svc_f1 = f1_score(y_test, linear_svc_predictions, average='weighted')\n",
    "print(f\"Linear SVC F-score: {linear_svc_f1:.2f}\")\n",
    "\n",
    "# Confusion Matrix\n",
    "linear_svc_cm = confusion_matrix(y_test, linear_svc_predictions)\n",
    "print(\"Linear SVC Confusion Matrix:\")\n",
    "print(linear_svc_cm)\n",
    "\n",
    "print(\"Classification Report:\\n\", classification_report(y_test, linear_svc_predictions))"
   ]
  },
  {
   "cell_type": "code",
   "execution_count": 28,
   "id": "2492f0cc",
   "metadata": {},
   "outputs": [
    {
     "name": "stdout",
     "output_type": "stream",
     "text": [
      "Linear SVC Accuracy: 0.63\n",
      "Linear SVC F-score: 0.62\n",
      "Linear SVC Confusion Matrix:\n",
      "[[62751 27090]\n",
      " [40056 49975]]\n",
      "Classification Report:\n",
      "               precision    recall  f1-score   support\n",
      "\n",
      "           1       0.61      0.70      0.65     89841\n",
      "           2       0.65      0.56      0.60     90031\n",
      "\n",
      "    accuracy                           0.63    179872\n",
      "   macro avg       0.63      0.63      0.62    179872\n",
      "weighted avg       0.63      0.63      0.62    179872\n",
      "\n"
     ]
    }
   ],
   "source": [
    "scaler = QuantileTransformer()\n",
    "X_train_scaled = scaler.fit_transform(X_train)\n",
    "X_test_scaled = scaler.transform(X_test)\n",
    "\n",
    "linear_svc = LinearSVC(C=0.01, loss=\"hinge\", random_state=42)\n",
    "linear_svc.fit(X_train_scaled, y_train)\n",
    "\n",
    "# Linear\n",
    "# Get predictions\n",
    "linear_svc_predictions = linear_svc.predict(X_test_scaled)\n",
    "\n",
    "# Accuracy\n",
    "linear_svc_accuracy = accuracy_score(y_test, linear_svc_predictions)\n",
    "print(f\"Linear SVC Accuracy: {linear_svc_accuracy:.2f}\")\n",
    "\n",
    "# F-score\n",
    "linear_svc_f1 = f1_score(y_test, linear_svc_predictions, average='weighted')\n",
    "print(f\"Linear SVC F-score: {linear_svc_f1:.2f}\")\n",
    "\n",
    "# Confusion Matrix\n",
    "linear_svc_cm = confusion_matrix(y_test, linear_svc_predictions)\n",
    "print(\"Linear SVC Confusion Matrix:\")\n",
    "print(linear_svc_cm)\n",
    "\n",
    "print(\"Classification Report:\\n\", classification_report(y_test, linear_svc_predictions))"
   ]
  },
  {
   "cell_type": "code",
   "execution_count": 29,
   "id": "69d2525b",
   "metadata": {},
   "outputs": [
    {
     "name": "stdout",
     "output_type": "stream",
     "text": [
      "Linear SVC Accuracy: 0.63\n",
      "Linear SVC F-score: 0.63\n",
      "Linear SVC Confusion Matrix:\n",
      "[[57093 32748]\n",
      " [33245 56786]]\n",
      "Classification Report:\n",
      "               precision    recall  f1-score   support\n",
      "\n",
      "           1       0.63      0.64      0.63     89841\n",
      "           2       0.63      0.63      0.63     90031\n",
      "\n",
      "    accuracy                           0.63    179872\n",
      "   macro avg       0.63      0.63      0.63    179872\n",
      "weighted avg       0.63      0.63      0.63    179872\n",
      "\n"
     ]
    }
   ],
   "source": [
    "scaler = PowerTransformer()\n",
    "X_train_scaled = scaler.fit_transform(X_train)\n",
    "X_test_scaled = scaler.transform(X_test)\n",
    "\n",
    "linear_svc = LinearSVC(C=0.01, loss=\"hinge\", random_state=42)\n",
    "linear_svc.fit(X_train_scaled, y_train)\n",
    "\n",
    "# Linear\n",
    "# Get predictions\n",
    "linear_svc_predictions = linear_svc.predict(X_test_scaled)\n",
    "\n",
    "# Accuracy\n",
    "linear_svc_accuracy = accuracy_score(y_test, linear_svc_predictions)\n",
    "print(f\"Linear SVC Accuracy: {linear_svc_accuracy:.2f}\")\n",
    "\n",
    "# F-score\n",
    "linear_svc_f1 = f1_score(y_test, linear_svc_predictions, average='weighted')\n",
    "print(f\"Linear SVC F-score: {linear_svc_f1:.2f}\")\n",
    "\n",
    "# Confusion Matrix\n",
    "linear_svc_cm = confusion_matrix(y_test, linear_svc_predictions)\n",
    "print(\"Linear SVC Confusion Matrix:\")\n",
    "print(linear_svc_cm)\n",
    "\n",
    "print(\"Classification Report:\\n\", classification_report(y_test, linear_svc_predictions))"
   ]
  },
  {
   "cell_type": "code",
   "execution_count": null,
   "id": "4206cf50",
   "metadata": {},
   "outputs": [],
   "source": []
  }
 ],
 "metadata": {
  "kernelspec": {
   "display_name": "Python 3 (ipykernel)",
   "language": "python",
   "name": "python3"
  },
  "language_info": {
   "codemirror_mode": {
    "name": "ipython",
    "version": 3
   },
   "file_extension": ".py",
   "mimetype": "text/x-python",
   "name": "python",
   "nbconvert_exporter": "python",
   "pygments_lexer": "ipython3",
   "version": "3.11.5"
  }
 },
 "nbformat": 4,
 "nbformat_minor": 5
}
