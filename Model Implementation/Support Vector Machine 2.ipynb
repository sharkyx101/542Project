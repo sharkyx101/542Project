{
 "cells": [
  {
   "cell_type": "code",
   "execution_count": null,
   "id": "ef505847",
   "metadata": {},
   "outputs": [],
   "source": [
    "# Written by Rahi Misra"
   ]
  },
  {
   "cell_type": "code",
   "execution_count": null,
   "id": "315889ff",
   "metadata": {},
   "outputs": [],
   "source": [
    "# This jupyter notebook was used in an attempt to find the best hyperparameters from different types of svm models using gridsearch to try multiple combinations of hyperparameters"
   ]
  },
  {
   "cell_type": "code",
   "execution_count": null,
   "id": "a9a03ec5",
   "metadata": {},
   "outputs": [],
   "source": [
    "# The blocks of code with no output would not finish running and were attempted again in google colab for more computing power"
   ]
  },
  {
   "cell_type": "code",
   "execution_count": 1,
   "id": "5f1bacba",
   "metadata": {},
   "outputs": [],
   "source": [
    "# Necessary libraries\n",
    "import pandas as pd\n",
    "import numpy as np\n",
    "from sklearn.metrics import accuracy_score, f1_score, confusion_matrix\n",
    "from sklearn.svm import SVC\n",
    "from sklearn.svm import LinearSVC\n",
    "from sklearn.pipeline import Pipeline\n",
    "from sklearn.preprocessing import StandardScaler\n",
    "from sklearn.model_selection import train_test_split\n",
    "from sklearn.model_selection import GridSearchCV\n",
    "from sklearn.preprocessing import PolynomialFeatures\n",
    "\n",
    "import warnings\n",
    "warnings.filterwarnings('ignore')"
   ]
  },
  {
   "cell_type": "code",
   "execution_count": 2,
   "id": "65eae70a",
   "metadata": {},
   "outputs": [],
   "source": [
    "# Load the merged_data_combined.csv file\n",
    "tennis = pd.read_csv(\"FinalTennisCSV.csv\")"
   ]
  },
  {
   "cell_type": "code",
   "execution_count": 3,
   "id": "00947b07",
   "metadata": {},
   "outputs": [],
   "source": [
    "# Split the dataset into features and target\n",
    "X = tennis.drop(\"winner\", axis=1)\n",
    "y = tennis[\"winner\"]"
   ]
  },
  {
   "cell_type": "code",
   "execution_count": 4,
   "id": "614d95ee",
   "metadata": {},
   "outputs": [
    {
     "data": {
      "text/plain": [
       "(899360, 78)"
      ]
     },
     "execution_count": 4,
     "metadata": {},
     "output_type": "execute_result"
    }
   ],
   "source": [
    "# The amounts of features and touples\n",
    "X.shape"
   ]
  },
  {
   "cell_type": "code",
   "execution_count": 5,
   "id": "b99499bb",
   "metadata": {},
   "outputs": [
    {
     "data": {
      "text/plain": [
       "(899360,)"
      ]
     },
     "execution_count": 5,
     "metadata": {},
     "output_type": "execute_result"
    }
   ],
   "source": [
    "# The amount of targets\n",
    "y.shape"
   ]
  },
  {
   "cell_type": "code",
   "execution_count": 6,
   "id": "97ef3778",
   "metadata": {},
   "outputs": [],
   "source": [
    "# Splits the dataset into training set and test set\n",
    "# Training set is 80% touples\n",
    "# Test set is 20% tuples\n",
    "\n",
    "X_train, X_test, y_train, y_test = train_test_split(X, y, test_size=0.2, random_state=42)"
   ]
  },
  {
   "cell_type": "code",
   "execution_count": 7,
   "id": "203aea9e",
   "metadata": {},
   "outputs": [],
   "source": [
    "scaler = StandardScaler()\n",
    "X_train_scaled = scaler.fit_transform(X_train)\n",
    "X_test_scaled = scaler.transform(X_test)"
   ]
  },
  {
   "cell_type": "code",
   "execution_count": 8,
   "id": "5b63e122",
   "metadata": {},
   "outputs": [],
   "source": [
    "# RBF was not finishing after days so we'll estimate its accuracy with subsamples\n",
    "train_subsample_size = int(X_train.shape[0] / 10)\n",
    "test_subsample_size = int(X_test.shape[0] / 10)\n",
    "X_train_scaled_subsampled = X_train_scaled[:train_subsample_size]\n",
    "y_train_subsampled = y_train[:train_subsample_size]\n",
    "X_test_scaled_subsampled = X_test_scaled[:test_subsample_size]\n",
    "y_test_subsampled = y_test[:test_subsample_size]"
   ]
  },
  {
   "cell_type": "markdown",
   "id": "6bc5e17f",
   "metadata": {},
   "source": [
    "# ----- GridSearchCV -----"
   ]
  },
  {
   "cell_type": "markdown",
   "id": "f43553e6",
   "metadata": {},
   "source": [
    "----- LinearSVM Kernel Classifier -----"
   ]
  },
  {
   "cell_type": "code",
   "execution_count": 9,
   "id": "1978bba4",
   "metadata": {},
   "outputs": [
    {
     "name": "stdout",
     "output_type": "stream",
     "text": [
      "Best Parameters: {'C': 0.1}\n"
     ]
    }
   ],
   "source": [
    "from sklearn.svm import LinearSVC\n",
    "from sklearn.model_selection import GridSearchCV\n",
    "\n",
    "linear_svc = LinearSVC()\n",
    "param_grid = {'C': [0.1, 1, 10]}\n",
    "\n",
    "grid_search = GridSearchCV(linear_svc, param_grid, cv=5, scoring='accuracy')\n",
    "grid_search.fit(X_train_scaled_subsampled, y_train_subsampled)\n",
    "\n",
    "print(\"Best Parameters:\", grid_search.best_params_)\n",
    "best_linear_svc = grid_search.best_estimator_"
   ]
  },
  {
   "cell_type": "markdown",
   "id": "c8f374db",
   "metadata": {},
   "source": [
    "----- RBF Kernel Classifier -----"
   ]
  },
  {
   "cell_type": "code",
   "execution_count": null,
   "id": "cd66e23b",
   "metadata": {},
   "outputs": [],
   "source": [
    "rbf_svc = SVC(kernel='rbf')\n",
    "param_grid = {'C': [0.1, 1, 10], 'gamma': [0.1, 1, 10]}\n",
    "\n",
    "grid_search = GridSearchCV(rbf_svc, param_grid, cv=5, scoring='accuracy')\n",
    "grid_search.fit(X_train_scaled_subsampled, y_train_subsampled)\n",
    "\n",
    "print(\"Best Parameters:\", grid_search.best_params_)\n",
    "best_rbf_svc = grid_search.best_estimator_"
   ]
  },
  {
   "cell_type": "markdown",
   "id": "7eac9c21",
   "metadata": {},
   "source": [
    "----- Polynomial Kernel Classifier -----"
   ]
  },
  {
   "cell_type": "code",
   "execution_count": null,
   "id": "0d4dde10",
   "metadata": {},
   "outputs": [],
   "source": [
    "poly_svc = SVC(kernel='poly')\n",
    "param_grid = {'C': [0.1, 1, 10], 'degree': [2, 3], 'gamma': [0.1, 1, 10]}\n",
    "\n",
    "grid_search = GridSearchCV(poly_svc, param_grid, cv=5, scoring='accuracy')\n",
    "grid_search.fit(X_train_scaled_subsampled, y_train_subsampled)\n",
    "\n",
    "print(\"Best Parameters:\", grid_search.best_params_)\n",
    "best_poly_svc = grid_search.best_estimator_"
   ]
  },
  {
   "cell_type": "markdown",
   "id": "c0da2905",
   "metadata": {},
   "source": [
    "----- Evaluate and Compare Kernel  -----"
   ]
  },
  {
   "cell_type": "code",
   "execution_count": null,
   "id": "c6ced3aa",
   "metadata": {},
   "outputs": [],
   "source": [
    "# Linear\n",
    "# Get predictions\n",
    "linear_svc_predictions = best_linear_svc.predict(X_test_scaled_subsampled)\n",
    "\n",
    "# Accuracy\n",
    "linear_svc_accuracy = accuracy_score(y_test_subsampled, linear_svc_predictions)\n",
    "print(f\"Linear SVC Accuracy: {linear_svc_accuracy:.2f}\")\n",
    "\n",
    "# F-score\n",
    "linear_svc_f1 = f1_score(y_test_subsampled, linear_svc_predictions, average='weighted')\n",
    "print(f\"Linear SVC F-score: {linear_svc_f1:.2f}\")\n",
    "\n",
    "# Confusion Matrix\n",
    "linear_svc_cm = confusion_matrix(y_test_subsampled, linear_svc_predictions)\n",
    "print(\"Linear SVC Confusion Matrix:\")\n",
    "print(linear_svc_cm)\n",
    "\n",
    "# RBF\n",
    "# Get predictions\n",
    "rbf_svc_predictions = best_rbf_svc.predict(X_test_scaled_subsampled)\n",
    "\n",
    "# Accuracy\n",
    "rbf_svc_accuracy = accuracy_score(y_test_subsampled, rbf_svc_predictions)\n",
    "print(f\"RBF Kernel Accuracy: {rbf_svc_accuracy:.2f}\")\n",
    "\n",
    "# F-score\n",
    "rbf_svc_f1 = f1_score(y_test_subsampled, rbf_svc_predictions, average='weighted')\n",
    "print(f\"RBF Kernel F-score: {rbf_svc_f1:.2f}\")\n",
    "\n",
    "# Confusion Matrix\n",
    "rbf_svc_cm = confusion_matrix(y_test_subsampled, rbf_svc_predictions)\n",
    "print(\"RBF Kernel Confusion Matrix:\")\n",
    "print(rbf_svc_cm)\n",
    "\n",
    "# Polynomial\n",
    "# Get predictions\n",
    "poly_svc_predictions = best_poly_svc.predict(X_test_scaled_subsampled)\n",
    "\n",
    "# Accuracy\n",
    "poly_svc_accuracy = accuracy_score(y_test_subsampled, poly_svc_predictions)\n",
    "print(f\"Polynomial Kernel Accuracy: {poly_svc_accuracy:.2f}\")\n",
    "\n",
    "# F-score\n",
    "poly_svc_f1 = f1_score(y_test_subsampled, poly_svc_predictions, average='weighted')\n",
    "print(f\"Polynomial Kernel F-score: {poly_svc_f1:.2f}\")\n",
    "\n",
    "# Confusion Matrix\n",
    "poly_svc_cm = confusion_matrix(y_test_subsampled, poly_svc_predictions)\n",
    "print(\"Polynomial Kernel Confusion Matrix:\")\n",
    "print(poly_svc_cm)"
   ]
  },
  {
   "cell_type": "code",
   "execution_count": null,
   "id": "34cba0d4",
   "metadata": {},
   "outputs": [],
   "source": []
  }
 ],
 "metadata": {
  "kernelspec": {
   "display_name": "Python 3 (ipykernel)",
   "language": "python",
   "name": "python3"
  },
  "language_info": {
   "codemirror_mode": {
    "name": "ipython",
    "version": 3
   },
   "file_extension": ".py",
   "mimetype": "text/x-python",
   "name": "python",
   "nbconvert_exporter": "python",
   "pygments_lexer": "ipython3",
   "version": "3.11.5"
  }
 },
 "nbformat": 4,
 "nbformat_minor": 5
}
