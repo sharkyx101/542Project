{
 "cells": [
  {
   "cell_type": "code",
   "execution_count": 2,
   "id": "f901670e",
   "metadata": {},
   "outputs": [
    {
     "name": "stdout",
     "output_type": "stream",
     "text": [
      "Accuracy: 0.66\n",
      "Classification Report:\n",
      "               precision    recall  f1-score   support\n",
      "\n",
      "           1       0.65      0.67      0.66     89841\n",
      "           2       0.66      0.65      0.65     90031\n",
      "\n",
      "    accuracy                           0.66    179872\n",
      "   macro avg       0.66      0.66      0.66    179872\n",
      "weighted avg       0.66      0.66      0.66    179872\n",
      "\n"
     ]
    }
   ],
   "source": [
    "#importing necessary libraries\n",
    "import pandas as pd\n",
    "from sklearn.ensemble import RandomForestClassifier\n",
    "from sklearn.model_selection import train_test_split\n",
    "from sklearn.metrics import accuracy_score, classification_report\n",
    "\n",
    "\n",
    "#loading preprocessed dataset\n",
    "\n",
    "data = pd.read_csv('FinalTennisCSV.csv')\n",
    "\n",
    "\n",
    "#split the data into features (X) and target variable (y)\n",
    "X = data.drop(columns=['winner'])  # Exclude the target variable\n",
    "y = data['winner']\n",
    "\n",
    "\n",
    "#split the dataset into training and testing sets\n",
    "X_train, X_test, y_train, y_test = train_test_split(X, y, test_size=0.2, random_state=42)\n",
    "\n",
    "\n",
    "#initialize Random Forest classifier\n",
    "random_forest_model = RandomForestClassifier(n_estimators=100, random_state=42)\n",
    "\n",
    "\n",
    "#train the model on the training data\n",
    "random_forest_model.fit(X_train, y_train)\n",
    "\n",
    "\n",
    "#make predictions on the testing data\n",
    "y_pred = random_forest_model.predict(X_test)\n",
    "\n",
    "\n",
    "#evaluate the model\n",
    "accuracy = accuracy_score(y_test, y_pred)\n",
    "print(f\"Accuracy: {accuracy:.2f}\")\n",
    "\n",
    "\n",
    "#print classification report\n",
    "print(\"Classification Report:\\n\", classification_report(y_test, y_pred))\n",
    "\n"
   ]
  },
  {
   "cell_type": "code",
   "execution_count": null,
   "id": "1d190c5e",
   "metadata": {},
   "outputs": [],
   "source": []
  }
 ],
 "metadata": {
  "kernelspec": {
   "display_name": "Python 3 (ipykernel)",
   "language": "python",
   "name": "python3"
  },
  "language_info": {
   "codemirror_mode": {
    "name": "ipython",
    "version": 3
   },
   "file_extension": ".py",
   "mimetype": "text/x-python",
   "name": "python",
   "nbconvert_exporter": "python",
   "pygments_lexer": "ipython3",
   "version": "3.11.4"
  }
 },
 "nbformat": 4,
 "nbformat_minor": 5
}
